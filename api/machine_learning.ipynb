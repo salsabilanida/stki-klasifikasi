{
 "cells": [
  {
   "cell_type": "markdown",
   "metadata": {},
   "source": [
    "1. PENGUMPULAN DATA\n",
    "\n",
    "data berasal dari penelitian di perpustakaan SD Negeri Pledokan, Kecamatan Sumowono, Kabupaten Semarang,\n",
    "\n",
    "Link google drive dataset: https://drive.google.com/file/d/1tHY4XNBxwgd8b3B1XUKBZbgbuXSqGq_S/view?usp=sharing\n",
    "\n",
    "Link google drive data rules: https://drive.google.com/file/d/12xxfndiKe9OuI4oRe3-6YRnnOBCIuDYu/view?usp=sharing"
   ]
  },
  {
   "cell_type": "markdown",
   "metadata": {},
   "source": [
    "2. MENELAAH DATA"
   ]
  },
  {
   "cell_type": "code",
   "execution_count": 1,
   "metadata": {},
   "outputs": [],
   "source": [
    "#library\n",
    "import pandas as pd\n",
    "import numpy as np\n",
    "import nltk\n",
    "from sklearn.feature_extraction.text import TfidfVectorizer\n",
    "from sklearn.model_selection import train_test_split\n",
    "import re\n",
    "import pickle\n"
   ]
  },
  {
   "cell_type": "code",
   "execution_count": 2,
   "metadata": {},
   "outputs": [],
   "source": [
    "#load dataset\n",
    "books = pd.read_csv('databuku.csv')"
   ]
  },
  {
   "cell_type": "code",
   "execution_count": 3,
   "metadata": {},
   "outputs": [
    {
     "data": {
      "text/html": [
       "<div>\n",
       "<style scoped>\n",
       "    .dataframe tbody tr th:only-of-type {\n",
       "        vertical-align: middle;\n",
       "    }\n",
       "\n",
       "    .dataframe tbody tr th {\n",
       "        vertical-align: top;\n",
       "    }\n",
       "\n",
       "    .dataframe thead th {\n",
       "        text-align: right;\n",
       "    }\n",
       "</style>\n",
       "<table border=\"1\" class=\"dataframe\">\n",
       "  <thead>\n",
       "    <tr style=\"text-align: right;\">\n",
       "      <th></th>\n",
       "      <th>Nomor Klasifikasi</th>\n",
       "      <th>Tanggal</th>\n",
       "      <th>Judul Buku</th>\n",
       "      <th>Kode Judul Buku</th>\n",
       "      <th>Kategori</th>\n",
       "      <th>Asal/Sumber</th>\n",
       "      <th>Kode Pengarang</th>\n",
       "      <th>Pengarang</th>\n",
       "      <th>Penerbit</th>\n",
       "      <th>Tahun Terbit</th>\n",
       "      <th>Jumlah Buku</th>\n",
       "      <th>Harga</th>\n",
       "      <th>Keterangan</th>\n",
       "    </tr>\n",
       "  </thead>\n",
       "  <tbody>\n",
       "    <tr>\n",
       "      <th>0</th>\n",
       "      <td>500</td>\n",
       "      <td>2022-10-14</td>\n",
       "      <td>Muatan Lokal Ensiklopedia IPTEK 7</td>\n",
       "      <td>M</td>\n",
       "      <td>Ensiklopedia Umum</td>\n",
       "      <td>-</td>\n",
       "      <td>DOD</td>\n",
       "      <td>Dody Hidayat dan Imam Firdaus</td>\n",
       "      <td>Penerbit Lentera Abadi</td>\n",
       "      <td>2017</td>\n",
       "      <td>2</td>\n",
       "      <td>0</td>\n",
       "      <td>Baik</td>\n",
       "    </tr>\n",
       "    <tr>\n",
       "      <th>1</th>\n",
       "      <td>500</td>\n",
       "      <td>2022-10-04</td>\n",
       "      <td>Cakrawala Sains Serba Serbi Energi</td>\n",
       "      <td>C</td>\n",
       "      <td>Fisika</td>\n",
       "      <td>-</td>\n",
       "      <td>OKT</td>\n",
       "      <td>Dian Malini Oktovina</td>\n",
       "      <td>Nobel Edumedia</td>\n",
       "      <td>2008</td>\n",
       "      <td>6</td>\n",
       "      <td>0</td>\n",
       "      <td>Baik</td>\n",
       "    </tr>\n",
       "    <tr>\n",
       "      <th>2</th>\n",
       "      <td>500</td>\n",
       "      <td>2022-10-04</td>\n",
       "      <td>Mengenal Energi</td>\n",
       "      <td>M</td>\n",
       "      <td>Fisika</td>\n",
       "      <td>-</td>\n",
       "      <td>SAF</td>\n",
       "      <td>Desi Safitri</td>\n",
       "      <td>PT Graha Bandung Kencana</td>\n",
       "      <td>2017</td>\n",
       "      <td>3</td>\n",
       "      <td>0</td>\n",
       "      <td>Baik</td>\n",
       "    </tr>\n",
       "    <tr>\n",
       "      <th>3</th>\n",
       "      <td>500</td>\n",
       "      <td>2022-10-04</td>\n",
       "      <td>Panas dan Energi</td>\n",
       "      <td>P</td>\n",
       "      <td>Fisika</td>\n",
       "      <td>-</td>\n",
       "      <td>SEA</td>\n",
       "      <td>Bobbi Searle</td>\n",
       "      <td>PT Gading Inti Prima</td>\n",
       "      <td>2017</td>\n",
       "      <td>6</td>\n",
       "      <td>0</td>\n",
       "      <td>Baik</td>\n",
       "    </tr>\n",
       "    <tr>\n",
       "      <th>4</th>\n",
       "      <td>500</td>\n",
       "      <td>2022-10-04</td>\n",
       "      <td>Mari Bereksperimen dengan Sains</td>\n",
       "      <td>M</td>\n",
       "      <td>Fisika</td>\n",
       "      <td>-</td>\n",
       "      <td>NUR</td>\n",
       "      <td>R Nurfadilah</td>\n",
       "      <td>PT Musi Perkasa Utama</td>\n",
       "      <td>2017</td>\n",
       "      <td>6</td>\n",
       "      <td>0</td>\n",
       "      <td>Baik</td>\n",
       "    </tr>\n",
       "  </tbody>\n",
       "</table>\n",
       "</div>"
      ],
      "text/plain": [
       "   Nomor Klasifikasi     Tanggal                          Judul Buku  \\\n",
       "0                500  2022-10-14   Muatan Lokal Ensiklopedia IPTEK 7   \n",
       "1                500  2022-10-04  Cakrawala Sains Serba Serbi Energi   \n",
       "2                500  2022-10-04                     Mengenal Energi   \n",
       "3                500  2022-10-04                    Panas dan Energi   \n",
       "4                500  2022-10-04     Mari Bereksperimen dengan Sains   \n",
       "\n",
       "  Kode Judul Buku           Kategori Asal/Sumber Kode Pengarang  \\\n",
       "0               M  Ensiklopedia Umum          -             DOD   \n",
       "1               C             Fisika          -             OKT   \n",
       "2               M             Fisika          -             SAF   \n",
       "3               P             Fisika          -             SEA   \n",
       "4               M             Fisika          -             NUR   \n",
       "\n",
       "                       Pengarang                  Penerbit  Tahun Terbit  \\\n",
       "0  Dody Hidayat dan Imam Firdaus    Penerbit Lentera Abadi          2017   \n",
       "1           Dian Malini Oktovina            Nobel Edumedia          2008   \n",
       "2                   Desi Safitri  PT Graha Bandung Kencana          2017   \n",
       "3                   Bobbi Searle      PT Gading Inti Prima          2017   \n",
       "4                   R Nurfadilah     PT Musi Perkasa Utama          2017   \n",
       "\n",
       "   Jumlah Buku  Harga Keterangan  \n",
       "0            2      0       Baik  \n",
       "1            6      0       Baik  \n",
       "2            3      0       Baik  \n",
       "3            6      0       Baik  \n",
       "4            6      0       Baik  "
      ]
     },
     "execution_count": 3,
     "metadata": {},
     "output_type": "execute_result"
    }
   ],
   "source": [
    "books.head()"
   ]
  },
  {
   "cell_type": "markdown",
   "metadata": {},
   "source": [
    "3. VALIDASI DATA"
   ]
  },
  {
   "cell_type": "code",
   "execution_count": 4,
   "metadata": {},
   "outputs": [
    {
     "data": {
      "text/plain": [
       "Nomor Klasifikasi    0\n",
       "Tanggal              0\n",
       "Judul Buku           0\n",
       "Kode Judul Buku      0\n",
       "Kategori             0\n",
       "Asal/Sumber          0\n",
       "Kode Pengarang       0\n",
       "Pengarang            0\n",
       "Penerbit             0\n",
       "Tahun Terbit         0\n",
       "Jumlah Buku          0\n",
       "Harga                0\n",
       "Keterangan           0\n",
       "dtype: int64"
      ]
     },
     "execution_count": 4,
     "metadata": {},
     "output_type": "execute_result"
    }
   ],
   "source": [
    "#cek data NaN\n",
    "books.isnull().sum()\n"
   ]
  },
  {
   "cell_type": "code",
   "execution_count": 5,
   "metadata": {},
   "outputs": [
    {
     "data": {
      "text/plain": [
       "Nomor Klasifikasi     int64\n",
       "Tanggal              object\n",
       "Judul Buku           object\n",
       "Kode Judul Buku      object\n",
       "Kategori             object\n",
       "Asal/Sumber          object\n",
       "Kode Pengarang       object\n",
       "Pengarang            object\n",
       "Penerbit             object\n",
       "Tahun Terbit          int64\n",
       "Jumlah Buku           int64\n",
       "Harga                 int64\n",
       "Keterangan           object\n",
       "dtype: object"
      ]
     },
     "execution_count": 5,
     "metadata": {},
     "output_type": "execute_result"
    }
   ],
   "source": [
    "books.dtypes"
   ]
  },
  {
   "cell_type": "code",
   "execution_count": 6,
   "metadata": {},
   "outputs": [
    {
     "data": {
      "text/plain": [
       "Nomor Klasifikasi          category\n",
       "Tanggal                      object\n",
       "Judul Buku           string[python]\n",
       "Kode Judul Buku              object\n",
       "Kategori                     object\n",
       "Asal/Sumber                  object\n",
       "Kode Pengarang               object\n",
       "Pengarang                    object\n",
       "Penerbit                     object\n",
       "Tahun Terbit                  int64\n",
       "Jumlah Buku                   int64\n",
       "Harga                         int64\n",
       "Keterangan                   object\n",
       "dtype: object"
      ]
     },
     "execution_count": 6,
     "metadata": {},
     "output_type": "execute_result"
    }
   ],
   "source": [
    "books = books.astype({'Judul Buku': 'string'})\n",
    "books = books.astype({'Nomor Klasifikasi': 'category'})\n",
    "\n",
    "books.dtypes\n"
   ]
  },
  {
   "cell_type": "markdown",
   "metadata": {},
   "source": [
    "4. MENENTUKAN OBJECT DATA"
   ]
  },
  {
   "cell_type": "code",
   "execution_count": 7,
   "metadata": {},
   "outputs": [
    {
     "data": {
      "text/html": [
       "<div>\n",
       "<style scoped>\n",
       "    .dataframe tbody tr th:only-of-type {\n",
       "        vertical-align: middle;\n",
       "    }\n",
       "\n",
       "    .dataframe tbody tr th {\n",
       "        vertical-align: top;\n",
       "    }\n",
       "\n",
       "    .dataframe thead th {\n",
       "        text-align: right;\n",
       "    }\n",
       "</style>\n",
       "<table border=\"1\" class=\"dataframe\">\n",
       "  <thead>\n",
       "    <tr style=\"text-align: right;\">\n",
       "      <th></th>\n",
       "      <th>Nomor Klasifikasi</th>\n",
       "      <th>Judul Buku</th>\n",
       "    </tr>\n",
       "  </thead>\n",
       "  <tbody>\n",
       "    <tr>\n",
       "      <th>0</th>\n",
       "      <td>500</td>\n",
       "      <td>Muatan Lokal Ensiklopedia IPTEK 7</td>\n",
       "    </tr>\n",
       "    <tr>\n",
       "      <th>1</th>\n",
       "      <td>500</td>\n",
       "      <td>Cakrawala Sains Serba Serbi Energi</td>\n",
       "    </tr>\n",
       "    <tr>\n",
       "      <th>2</th>\n",
       "      <td>500</td>\n",
       "      <td>Mengenal Energi</td>\n",
       "    </tr>\n",
       "    <tr>\n",
       "      <th>3</th>\n",
       "      <td>500</td>\n",
       "      <td>Panas dan Energi</td>\n",
       "    </tr>\n",
       "    <tr>\n",
       "      <th>4</th>\n",
       "      <td>500</td>\n",
       "      <td>Mari Bereksperimen dengan Sains</td>\n",
       "    </tr>\n",
       "    <tr>\n",
       "      <th>...</th>\n",
       "      <td>...</td>\n",
       "      <td>...</td>\n",
       "    </tr>\n",
       "    <tr>\n",
       "      <th>1430</th>\n",
       "      <td>800</td>\n",
       "      <td>Ada Apa Sih? Ada Apa Sih?</td>\n",
       "    </tr>\n",
       "    <tr>\n",
       "      <th>1431</th>\n",
       "      <td>800</td>\n",
       "      <td>Bubur Bassang</td>\n",
       "    </tr>\n",
       "    <tr>\n",
       "      <th>1432</th>\n",
       "      <td>800</td>\n",
       "      <td>Randi dan Hutan Bukit Gir</td>\n",
       "    </tr>\n",
       "    <tr>\n",
       "      <th>1433</th>\n",
       "      <td>800</td>\n",
       "      <td>Bayoi</td>\n",
       "    </tr>\n",
       "    <tr>\n",
       "      <th>1434</th>\n",
       "      <td>800</td>\n",
       "      <td>Bermain Teka-teki</td>\n",
       "    </tr>\n",
       "  </tbody>\n",
       "</table>\n",
       "<p>1435 rows × 2 columns</p>\n",
       "</div>"
      ],
      "text/plain": [
       "     Nomor Klasifikasi                          Judul Buku\n",
       "0                  500   Muatan Lokal Ensiklopedia IPTEK 7\n",
       "1                  500  Cakrawala Sains Serba Serbi Energi\n",
       "2                  500                     Mengenal Energi\n",
       "3                  500                    Panas dan Energi\n",
       "4                  500     Mari Bereksperimen dengan Sains\n",
       "...                ...                                 ...\n",
       "1430               800           Ada Apa Sih? Ada Apa Sih?\n",
       "1431               800                       Bubur Bassang\n",
       "1432               800           Randi dan Hutan Bukit Gir\n",
       "1433               800                               Bayoi\n",
       "1434               800                   Bermain Teka-teki\n",
       "\n",
       "[1435 rows x 2 columns]"
      ]
     },
     "execution_count": 7,
     "metadata": {},
     "output_type": "execute_result"
    }
   ],
   "source": [
    "#memilih 2 fitur yang akan digunakan\n",
    "books = pd.DataFrame(books, columns=['Nomor Klasifikasi', 'Judul Buku'])\n",
    "books\n"
   ]
  },
  {
   "cell_type": "code",
   "execution_count": 8,
   "metadata": {},
   "outputs": [
    {
     "data": {
      "text/html": [
       "<div>\n",
       "<style scoped>\n",
       "    .dataframe tbody tr th:only-of-type {\n",
       "        vertical-align: middle;\n",
       "    }\n",
       "\n",
       "    .dataframe tbody tr th {\n",
       "        vertical-align: top;\n",
       "    }\n",
       "\n",
       "    .dataframe thead th {\n",
       "        text-align: right;\n",
       "    }\n",
       "</style>\n",
       "<table border=\"1\" class=\"dataframe\">\n",
       "  <thead>\n",
       "    <tr style=\"text-align: right;\">\n",
       "      <th></th>\n",
       "      <th>Nomor Klasifikasi</th>\n",
       "      <th>Judul Buku</th>\n",
       "    </tr>\n",
       "  </thead>\n",
       "  <tbody>\n",
       "    <tr>\n",
       "      <th>0</th>\n",
       "      <td>500</td>\n",
       "      <td>Muatan Lokal Ensiklopedia IPTEK 7</td>\n",
       "    </tr>\n",
       "    <tr>\n",
       "      <th>1</th>\n",
       "      <td>500</td>\n",
       "      <td>Cakrawala Sains Serba Serbi Energi</td>\n",
       "    </tr>\n",
       "    <tr>\n",
       "      <th>2</th>\n",
       "      <td>500</td>\n",
       "      <td>Mengenal Energi</td>\n",
       "    </tr>\n",
       "    <tr>\n",
       "      <th>3</th>\n",
       "      <td>500</td>\n",
       "      <td>Panas dan Energi</td>\n",
       "    </tr>\n",
       "    <tr>\n",
       "      <th>4</th>\n",
       "      <td>500</td>\n",
       "      <td>Mari Bereksperimen dengan Sains</td>\n",
       "    </tr>\n",
       "    <tr>\n",
       "      <th>...</th>\n",
       "      <td>...</td>\n",
       "      <td>...</td>\n",
       "    </tr>\n",
       "    <tr>\n",
       "      <th>1983</th>\n",
       "      <td>900</td>\n",
       "      <td>sejarah umum eropa</td>\n",
       "    </tr>\n",
       "    <tr>\n",
       "      <th>1984</th>\n",
       "      <td>900</td>\n",
       "      <td>sejarah umum asia</td>\n",
       "    </tr>\n",
       "    <tr>\n",
       "      <th>1985</th>\n",
       "      <td>900</td>\n",
       "      <td>sejarah umum afrika</td>\n",
       "    </tr>\n",
       "    <tr>\n",
       "      <th>1986</th>\n",
       "      <td>900</td>\n",
       "      <td>sejarah umum amerika utara dan amerika selatan</td>\n",
       "    </tr>\n",
       "    <tr>\n",
       "      <th>1987</th>\n",
       "      <td>900</td>\n",
       "      <td>sejarah umum bagian lain dari bumi</td>\n",
       "    </tr>\n",
       "  </tbody>\n",
       "</table>\n",
       "<p>1988 rows × 2 columns</p>\n",
       "</div>"
      ],
      "text/plain": [
       "      Nomor Klasifikasi                                      Judul Buku\n",
       "0                   500               Muatan Lokal Ensiklopedia IPTEK 7\n",
       "1                   500              Cakrawala Sains Serba Serbi Energi\n",
       "2                   500                                 Mengenal Energi\n",
       "3                   500                                Panas dan Energi\n",
       "4                   500                 Mari Bereksperimen dengan Sains\n",
       "...                 ...                                             ...\n",
       "1983                900                              sejarah umum eropa\n",
       "1984                900                               sejarah umum asia\n",
       "1985                900                             sejarah umum afrika\n",
       "1986                900  sejarah umum amerika utara dan amerika selatan\n",
       "1987                900             sejarah umum bagian lain dari bumi \n",
       "\n",
       "[1988 rows x 2 columns]"
      ]
     },
     "execution_count": 8,
     "metadata": {},
     "output_type": "execute_result"
    }
   ],
   "source": [
    "#menambahkan data rules\n",
    "rules = pd.read_csv('data_rules.csv')\n",
    "\n",
    "#gabungkan dataset dengan data rules\n",
    "books = pd.concat([books, rules], ignore_index=True)\n",
    "\n",
    "books"
   ]
  },
  {
   "cell_type": "code",
   "execution_count": 9,
   "metadata": {},
   "outputs": [
    {
     "data": {
      "text/html": [
       "<div>\n",
       "<style scoped>\n",
       "    .dataframe tbody tr th:only-of-type {\n",
       "        vertical-align: middle;\n",
       "    }\n",
       "\n",
       "    .dataframe tbody tr th {\n",
       "        vertical-align: top;\n",
       "    }\n",
       "\n",
       "    .dataframe thead th {\n",
       "        text-align: right;\n",
       "    }\n",
       "</style>\n",
       "<table border=\"1\" class=\"dataframe\">\n",
       "  <thead>\n",
       "    <tr style=\"text-align: right;\">\n",
       "      <th></th>\n",
       "      <th>genre</th>\n",
       "      <th>title</th>\n",
       "    </tr>\n",
       "  </thead>\n",
       "  <tbody>\n",
       "    <tr>\n",
       "      <th>0</th>\n",
       "      <td>500</td>\n",
       "      <td>Muatan Lokal Ensiklopedia IPTEK 7</td>\n",
       "    </tr>\n",
       "    <tr>\n",
       "      <th>1</th>\n",
       "      <td>500</td>\n",
       "      <td>Cakrawala Sains Serba Serbi Energi</td>\n",
       "    </tr>\n",
       "    <tr>\n",
       "      <th>2</th>\n",
       "      <td>500</td>\n",
       "      <td>Mengenal Energi</td>\n",
       "    </tr>\n",
       "    <tr>\n",
       "      <th>3</th>\n",
       "      <td>500</td>\n",
       "      <td>Panas dan Energi</td>\n",
       "    </tr>\n",
       "    <tr>\n",
       "      <th>4</th>\n",
       "      <td>500</td>\n",
       "      <td>Mari Bereksperimen dengan Sains</td>\n",
       "    </tr>\n",
       "    <tr>\n",
       "      <th>...</th>\n",
       "      <td>...</td>\n",
       "      <td>...</td>\n",
       "    </tr>\n",
       "    <tr>\n",
       "      <th>1983</th>\n",
       "      <td>900</td>\n",
       "      <td>sejarah umum eropa</td>\n",
       "    </tr>\n",
       "    <tr>\n",
       "      <th>1984</th>\n",
       "      <td>900</td>\n",
       "      <td>sejarah umum asia</td>\n",
       "    </tr>\n",
       "    <tr>\n",
       "      <th>1985</th>\n",
       "      <td>900</td>\n",
       "      <td>sejarah umum afrika</td>\n",
       "    </tr>\n",
       "    <tr>\n",
       "      <th>1986</th>\n",
       "      <td>900</td>\n",
       "      <td>sejarah umum amerika utara dan amerika selatan</td>\n",
       "    </tr>\n",
       "    <tr>\n",
       "      <th>1987</th>\n",
       "      <td>900</td>\n",
       "      <td>sejarah umum bagian lain dari bumi</td>\n",
       "    </tr>\n",
       "  </tbody>\n",
       "</table>\n",
       "<p>1988 rows × 2 columns</p>\n",
       "</div>"
      ],
      "text/plain": [
       "      genre                                           title\n",
       "0       500               Muatan Lokal Ensiklopedia IPTEK 7\n",
       "1       500              Cakrawala Sains Serba Serbi Energi\n",
       "2       500                                 Mengenal Energi\n",
       "3       500                                Panas dan Energi\n",
       "4       500                 Mari Bereksperimen dengan Sains\n",
       "...     ...                                             ...\n",
       "1983    900                              sejarah umum eropa\n",
       "1984    900                               sejarah umum asia\n",
       "1985    900                             sejarah umum afrika\n",
       "1986    900  sejarah umum amerika utara dan amerika selatan\n",
       "1987    900             sejarah umum bagian lain dari bumi \n",
       "\n",
       "[1988 rows x 2 columns]"
      ]
     },
     "execution_count": 9,
     "metadata": {},
     "output_type": "execute_result"
    }
   ],
   "source": [
    "column_mapping = {\n",
    "    'Nomor Klasifikasi': 'genre',\n",
    "    'Judul Buku': 'title'\n",
    "}\n",
    "books.rename(columns=column_mapping, inplace=True)\n",
    "\n",
    "books\n"
   ]
  },
  {
   "cell_type": "code",
   "execution_count": 10,
   "metadata": {},
   "outputs": [
    {
     "data": {
      "text/plain": [
       "genre\n",
       "800    359\n",
       "600    319\n",
       "500    316\n",
       "300    263\n",
       "700    203\n",
       "200    149\n",
       "0      134\n",
       "100    117\n",
       "900     81\n",
       "400     47\n",
       "Name: count, dtype: int64"
      ]
     },
     "execution_count": 10,
     "metadata": {},
     "output_type": "execute_result"
    }
   ],
   "source": [
    "books['genre'].value_counts()\n"
   ]
  },
  {
   "cell_type": "markdown",
   "metadata": {},
   "source": [
    "5. MEMBERSIHKAN DATA"
   ]
  },
  {
   "cell_type": "code",
   "execution_count": 11,
   "metadata": {},
   "outputs": [
    {
     "data": {
      "text/plain": [
       "genre    0\n",
       "title    0\n",
       "dtype: int64"
      ]
     },
     "execution_count": 11,
     "metadata": {},
     "output_type": "execute_result"
    }
   ],
   "source": [
    "#cek data NaN\n",
    "books_clean = books.dropna(how='all')\n",
    "\n",
    "books.isnull().sum()\n"
   ]
  },
  {
   "cell_type": "code",
   "execution_count": 12,
   "metadata": {},
   "outputs": [],
   "source": [
    "books_clean['title'].fillna('placeholder_word', inplace=True)"
   ]
  },
  {
   "cell_type": "code",
   "execution_count": 13,
   "metadata": {},
   "outputs": [],
   "source": [
    "books_clean.dropna(subset=['title'], inplace=True)"
   ]
  },
  {
   "cell_type": "markdown",
   "metadata": {},
   "source": [
    "6. KONSTRUKSI DATA"
   ]
  },
  {
   "cell_type": "code",
   "execution_count": 14,
   "metadata": {},
   "outputs": [
    {
     "data": {
      "text/plain": [
       "0                    Muatan Lokal Ensiklopedia IPTEK 7\n",
       "1                   Cakrawala Sains Serba Serbi Energi\n",
       "2                                      Mengenal Energi\n",
       "3                                     Panas dan Energi\n",
       "4                      Mari Bereksperimen dengan Sains\n",
       "                             ...                      \n",
       "1983                                sejarah umum eropa\n",
       "1984                                 sejarah umum asia\n",
       "1985                               sejarah umum afrika\n",
       "1986    sejarah umum amerika utara dan amerika selatan\n",
       "1987               sejarah umum bagian lain dari bumi \n",
       "Name: title, Length: 1988, dtype: object"
      ]
     },
     "execution_count": 14,
     "metadata": {},
     "output_type": "execute_result"
    }
   ],
   "source": [
    "#melakukan preprocessing pada kolom title (judul buku)\n",
    "\n",
    "#menampilkan \"judul buku\" sebelum di preprocessing\n",
    "books_clean['title']\n"
   ]
  },
  {
   "cell_type": "code",
   "execution_count": 15,
   "metadata": {},
   "outputs": [
    {
     "data": {
      "text/plain": [
       "0       muatan lokal ensiklopedia iptek\n",
       "1    cakrawala sains serba serbi energi\n",
       "2                       mengenal energi\n",
       "3                      panas dan energi\n",
       "4       mari bereksperimen dengan sains\n",
       "Name: title, dtype: object"
      ]
     },
     "execution_count": 15,
     "metadata": {},
     "output_type": "execute_result"
    }
   ],
   "source": [
    "#case folding\n",
    "def clean(text):\n",
    "    #menghapus garis miring dan tanda kutip\n",
    "    text = re.sub(\"\\'\", \"\", str(text))\n",
    "    #menghapus semuanya kecuali huruf\n",
    "    text = re.sub(\"[^a-zA-Z]\", \" \", text)\n",
    "    #menghapus spasi\n",
    "    text = ' '.join(text.split())\n",
    "    #mengubah text menjadi huruf kecil\n",
    "    text = text.lower()\n",
    "    return text\n",
    "\n",
    "\n",
    "books_clean.loc[:, 'title'] = books_clean.loc[:,'title'].apply(lambda x: clean(x))\n",
    "\n",
    "#menampilkan hasil text-cleaning\n",
    "books_clean['title'].head()\n"
   ]
  },
  {
   "cell_type": "code",
   "execution_count": 16,
   "metadata": {},
   "outputs": [
    {
     "data": {
      "text/plain": [
       "0        [muatan, lokal, ensiklopedia, iptek]\n",
       "1    [cakrawala, sains, serba, serbi, energi]\n",
       "2                          [mengenal, energi]\n",
       "3                        [panas, dan, energi]\n",
       "4        [mari, bereksperimen, dengan, sains]\n",
       "Name: title, dtype: object"
      ]
     },
     "execution_count": 16,
     "metadata": {},
     "output_type": "execute_result"
    }
   ],
   "source": [
    "#tokenizing\n",
    "def token(title):\n",
    "  nstr = title.split(' ')\n",
    "  dat = []\n",
    "  a = -1\n",
    "  for hu in nstr:\n",
    "    a = a + 1\n",
    "  if hu == '':\n",
    "    dat.append(a)\n",
    "  p = 0\n",
    "  b = 0\n",
    "  for q in dat:\n",
    "    b = q - p\n",
    "    del nstr[b]\n",
    "    p = p + 1\n",
    "  return nstr\n",
    "\n",
    "\n",
    "books_clean['title'] = books_clean['title'].apply(token)\n",
    "\n",
    "#menampilkan hasil tokenizing\n",
    "books_clean['title'].head()\n"
   ]
  },
  {
   "cell_type": "code",
   "execution_count": 17,
   "metadata": {},
   "outputs": [
    {
     "name": "stderr",
     "output_type": "stream",
     "text": [
      "[nltk_data] Downloading package stopwords to C:\\Users\\win\n",
      "[nltk_data]     X\\AppData\\Roaming\\nltk_data...\n",
      "[nltk_data]   Package stopwords is already up-to-date!\n"
     ]
    },
    {
     "data": {
      "text/plain": [
       "0        [muatan, lokal, ensiklopedia, iptek]\n",
       "1    [cakrawala, sains, serba, serbi, energi]\n",
       "2                          [mengenal, energi]\n",
       "3                             [panas, energi]\n",
       "4                [mari, bereksperimen, sains]\n",
       "Name: title, dtype: object"
      ]
     },
     "execution_count": 17,
     "metadata": {},
     "output_type": "execute_result"
    }
   ],
   "source": [
    "#filtering\n",
    "#removal of stopwords\n",
    "from nltk.corpus import stopwords\n",
    "nltk.download('stopwords')\n",
    "\n",
    "\n",
    "def stopword_removal(title):\n",
    "  filtering = stopwords.words('indonesian', 'english')\n",
    "  x = []\n",
    "  data = []\n",
    "\n",
    "  def nyFunc(x):\n",
    "    if x in filtering:\n",
    "      return False\n",
    "    else:\n",
    "      return True\n",
    "  fit = filter(nyFunc, title)\n",
    "  for x in fit:\n",
    "    data.append(x)\n",
    "  return data\n",
    "\n",
    "\n",
    "books_clean['title'] = books_clean['title'].apply(stopword_removal)\n",
    "\n",
    "#menampilkan hasil filtering\n",
    "books_clean['title'].head()\n"
   ]
  },
  {
   "cell_type": "code",
   "execution_count": 18,
   "metadata": {},
   "outputs": [
    {
     "data": {
      "text/plain": [
       "0         muat lokal ensiklopedia iptek\n",
       "1    cakrawala sains serba serbi energi\n",
       "2                          kenal energi\n",
       "3                          panas energi\n",
       "4                 mari eksperimen sains\n",
       "Name: title, dtype: object"
      ]
     },
     "execution_count": 18,
     "metadata": {},
     "output_type": "execute_result"
    }
   ],
   "source": [
    "#stemming\n",
    "from sklearn.pipeline import Pipeline\n",
    "from Sastrawi.Stemmer.StemmerFactory import StemmerFactory\n",
    "\n",
    "factory = StemmerFactory()\n",
    "stemmer = factory.create_stemmer()\n",
    "def stemming(sentence):\n",
    "    stemSentence = \"\"\n",
    "    for word in sentence:\n",
    "        stem = stemmer.stem(word)\n",
    "        stemSentence += stem\n",
    "        stemSentence += \" \"\n",
    "    stemSentence = stemSentence.strip()\n",
    "    return stemSentence\n",
    "\n",
    "books_clean['title'] = books_clean['title'].apply(lambda x: stemming(x))\n",
    "\n",
    "#menampilkan hasil stemming\n",
    "books_clean['title'].head()"
   ]
  },
  {
   "cell_type": "code",
   "execution_count": 19,
   "metadata": {},
   "outputs": [
    {
     "data": {
      "text/plain": [
       "genre     int64\n",
       "title    object\n",
       "dtype: object"
      ]
     },
     "execution_count": 19,
     "metadata": {},
     "output_type": "execute_result"
    }
   ],
   "source": [
    "books_clean.dtypes"
   ]
  },
  {
   "cell_type": "code",
   "execution_count": 20,
   "metadata": {},
   "outputs": [
    {
     "data": {
      "text/plain": [
       "genre          category\n",
       "title    string[python]\n",
       "dtype: object"
      ]
     },
     "execution_count": 20,
     "metadata": {},
     "output_type": "execute_result"
    }
   ],
   "source": [
    "books_clean = books_clean.astype({'title':'string'})\n",
    "books_clean = books_clean.astype({'genre': 'category'})\n",
    "\n",
    "books_clean.dtypes"
   ]
  },
  {
   "cell_type": "markdown",
   "metadata": {},
   "source": [
    "7. MODELLING"
   ]
  },
  {
   "cell_type": "code",
   "execution_count": 21,
   "metadata": {},
   "outputs": [],
   "source": [
    "#proses TF-IDF\n",
    "from sklearn.feature_extraction.text import TfidfVectorizer\n",
    "from sklearn.model_selection import train_test_split\n",
    "\n",
    "tfidf_vectorizer = TfidfVectorizer()\n",
    "X_tfidf = tfidf_vectorizer.fit_transform(books_clean['title'])\n"
   ]
  },
  {
   "cell_type": "code",
   "execution_count": 22,
   "metadata": {},
   "outputs": [],
   "source": [
    "#proses WORD2VEC\n",
    "import gensim\n",
    "\n",
    "sentences = [title.split() for title in books_clean['title']]\n",
    "model = gensim.models.Word2Vec(sentences, vector_size=100, window=5, min_count=1, sg=0)\n"
   ]
  },
  {
   "cell_type": "code",
   "execution_count": 23,
   "metadata": {},
   "outputs": [],
   "source": [
    "#proses kombinasi TF-IDF dan Word2Vec\n",
    "# Fungsi untuk menghitung vektor rata-rata dari kata dalam judul buku\n",
    "def get_average_word2vec(title, model, tfidf_vectorizer):\n",
    "    words = title.split()\n",
    "    vectors = []\n",
    "    for word in words:\n",
    "        if word in model.wv:\n",
    "            word_vector = model.wv[word]\n",
    "            tfidf_value = tfidf_vectorizer.idf_[tfidf_vectorizer.vocabulary_.get(word, 0)]\n",
    "            vectors.append(word_vector * tfidf_value)\n",
    "    if len(vectors) > 0:\n",
    "        return sum(vectors) / len(vectors)\n",
    "    else:\n",
    "        return [0.0] * model.vector_size\n",
    "\n",
    "X_word2vec = [get_average_word2vec(title, model, tfidf_vectorizer) for title in books['title']]\n",
    "\n",
    "# Gabungkan vektor TF-IDF dan Word2Vec\n",
    "X_combined = [list(tfidf_vector.toarray()[0]) + list(word2vec) for tfidf_vector, word2vec in zip(X_tfidf, X_word2vec)]\n"
   ]
  },
  {
   "cell_type": "code",
   "execution_count": 33,
   "metadata": {},
   "outputs": [],
   "source": [
    "#fitting the models -- 80-20% split\n",
    "x_train, x_test, y_train, y_test = train_test_split(X_combined, books_clean['genre'], train_size=0.8, test_size=0.2, random_state=100)"
   ]
  },
  {
   "cell_type": "code",
   "execution_count": 34,
   "metadata": {},
   "outputs": [
    {
     "name": "stderr",
     "output_type": "stream",
     "text": [
      "c:\\Users\\win X\\anaconda3\\Lib\\site-packages\\sklearn\\utils\\validation.py:605: FutureWarning: is_sparse is deprecated and will be removed in a future version. Check `isinstance(dtype, pd.SparseDtype)` instead.\n",
      "  if is_sparse(pd_dtype):\n",
      "c:\\Users\\win X\\anaconda3\\Lib\\site-packages\\sklearn\\utils\\validation.py:614: FutureWarning: is_sparse is deprecated and will be removed in a future version. Check `isinstance(dtype, pd.SparseDtype)` instead.\n",
      "  if is_sparse(pd_dtype) or not is_extension_array_dtype(pd_dtype):\n",
      "c:\\Users\\win X\\anaconda3\\Lib\\site-packages\\sklearn\\utils\\validation.py:605: FutureWarning: is_sparse is deprecated and will be removed in a future version. Check `isinstance(dtype, pd.SparseDtype)` instead.\n",
      "  if is_sparse(pd_dtype):\n",
      "c:\\Users\\win X\\anaconda3\\Lib\\site-packages\\sklearn\\utils\\validation.py:614: FutureWarning: is_sparse is deprecated and will be removed in a future version. Check `isinstance(dtype, pd.SparseDtype)` instead.\n",
      "  if is_sparse(pd_dtype) or not is_extension_array_dtype(pd_dtype):\n",
      "c:\\Users\\win X\\anaconda3\\Lib\\site-packages\\sklearn\\utils\\validation.py:605: FutureWarning: is_sparse is deprecated and will be removed in a future version. Check `isinstance(dtype, pd.SparseDtype)` instead.\n",
      "  if is_sparse(pd_dtype):\n",
      "c:\\Users\\win X\\anaconda3\\Lib\\site-packages\\sklearn\\utils\\validation.py:614: FutureWarning: is_sparse is deprecated and will be removed in a future version. Check `isinstance(dtype, pd.SparseDtype)` instead.\n",
      "  if is_sparse(pd_dtype) or not is_extension_array_dtype(pd_dtype):\n",
      "c:\\Users\\win X\\anaconda3\\Lib\\site-packages\\sklearn\\utils\\validation.py:605: FutureWarning: is_sparse is deprecated and will be removed in a future version. Check `isinstance(dtype, pd.SparseDtype)` instead.\n",
      "  if is_sparse(pd_dtype):\n",
      "c:\\Users\\win X\\anaconda3\\Lib\\site-packages\\sklearn\\utils\\validation.py:614: FutureWarning: is_sparse is deprecated and will be removed in a future version. Check `isinstance(dtype, pd.SparseDtype)` instead.\n",
      "  if is_sparse(pd_dtype) or not is_extension_array_dtype(pd_dtype):\n",
      "c:\\Users\\win X\\anaconda3\\Lib\\site-packages\\sklearn\\utils\\validation.py:605: FutureWarning: is_sparse is deprecated and will be removed in a future version. Check `isinstance(dtype, pd.SparseDtype)` instead.\n",
      "  if is_sparse(pd_dtype):\n",
      "c:\\Users\\win X\\anaconda3\\Lib\\site-packages\\sklearn\\utils\\validation.py:614: FutureWarning: is_sparse is deprecated and will be removed in a future version. Check `isinstance(dtype, pd.SparseDtype)` instead.\n",
      "  if is_sparse(pd_dtype) or not is_extension_array_dtype(pd_dtype):\n"
     ]
    },
    {
     "name": "stdout",
     "output_type": "stream",
     "text": [
      "original sample:  (array([  0, 100, 200, 300, 400, 500, 600, 700, 800, 900], dtype=int64), array([107,  91, 121, 218,  37, 262, 259, 153, 283,  59], dtype=int64))\n",
      "after oversampling:  (array([  0, 100, 200, 300, 400, 500, 600, 700, 800, 900], dtype=int64), array([283, 283, 283, 283, 283, 283, 283, 283, 283, 283], dtype=int64))\n"
     ]
    }
   ],
   "source": [
    "#proses oversampling\n",
    "from imblearn.over_sampling import SMOTE\n",
    "\n",
    "sm = SMOTE(random_state=100)\n",
    "x_train_res, y_train_res = sm.fit_resample(x_train, y_train)\n",
    "\n",
    "print('original sample: ', np.unique(y_train, return_counts=True))\n",
    "print('after oversampling: ', np.unique(y_train_res, return_counts=True))"
   ]
  },
  {
   "cell_type": "code",
   "execution_count": 35,
   "metadata": {},
   "outputs": [
    {
     "name": "stderr",
     "output_type": "stream",
     "text": [
      "c:\\Users\\win X\\anaconda3\\Lib\\site-packages\\sklearn\\utils\\validation.py:605: FutureWarning: is_sparse is deprecated and will be removed in a future version. Check `isinstance(dtype, pd.SparseDtype)` instead.\n",
      "  if is_sparse(pd_dtype):\n",
      "c:\\Users\\win X\\anaconda3\\Lib\\site-packages\\sklearn\\utils\\validation.py:614: FutureWarning: is_sparse is deprecated and will be removed in a future version. Check `isinstance(dtype, pd.SparseDtype)` instead.\n",
      "  if is_sparse(pd_dtype) or not is_extension_array_dtype(pd_dtype):\n"
     ]
    },
    {
     "name": "stdout",
     "output_type": "stream",
     "text": [
      "SVM Accuracy:  72.11055276381909\n",
      "\n",
      "               precision    recall  f1-score   support\n",
      "\n",
      "           0       1.00      0.85      0.92        27\n",
      "         100       0.81      0.50      0.62        26\n",
      "         200       0.94      0.57      0.71        28\n",
      "         300       0.74      0.62      0.67        45\n",
      "         400       1.00      0.90      0.95        10\n",
      "         500       0.83      0.72      0.77        54\n",
      "         600       0.72      0.78      0.75        60\n",
      "         700       0.94      0.68      0.79        50\n",
      "         800       0.49      0.84      0.62        76\n",
      "         900       0.82      0.64      0.72        22\n",
      "\n",
      "    accuracy                           0.72       398\n",
      "   macro avg       0.83      0.71      0.75       398\n",
      "weighted avg       0.78      0.72      0.73       398\n",
      "\n"
     ]
    },
    {
     "name": "stderr",
     "output_type": "stream",
     "text": [
      "c:\\Users\\win X\\anaconda3\\Lib\\site-packages\\sklearn\\utils\\validation.py:605: FutureWarning: is_sparse is deprecated and will be removed in a future version. Check `isinstance(dtype, pd.SparseDtype)` instead.\n",
      "  if is_sparse(pd_dtype):\n",
      "c:\\Users\\win X\\anaconda3\\Lib\\site-packages\\sklearn\\utils\\validation.py:614: FutureWarning: is_sparse is deprecated and will be removed in a future version. Check `isinstance(dtype, pd.SparseDtype)` instead.\n",
      "  if is_sparse(pd_dtype) or not is_extension_array_dtype(pd_dtype):\n",
      "c:\\Users\\win X\\anaconda3\\Lib\\site-packages\\sklearn\\utils\\validation.py:605: FutureWarning: is_sparse is deprecated and will be removed in a future version. Check `isinstance(dtype, pd.SparseDtype)` instead.\n",
      "  if is_sparse(pd_dtype):\n",
      "c:\\Users\\win X\\anaconda3\\Lib\\site-packages\\sklearn\\utils\\validation.py:614: FutureWarning: is_sparse is deprecated and will be removed in a future version. Check `isinstance(dtype, pd.SparseDtype)` instead.\n",
      "  if is_sparse(pd_dtype) or not is_extension_array_dtype(pd_dtype):\n",
      "c:\\Users\\win X\\anaconda3\\Lib\\site-packages\\sklearn\\utils\\validation.py:605: FutureWarning: is_sparse is deprecated and will be removed in a future version. Check `isinstance(dtype, pd.SparseDtype)` instead.\n",
      "  if is_sparse(pd_dtype):\n",
      "c:\\Users\\win X\\anaconda3\\Lib\\site-packages\\sklearn\\utils\\validation.py:614: FutureWarning: is_sparse is deprecated and will be removed in a future version. Check `isinstance(dtype, pd.SparseDtype)` instead.\n",
      "  if is_sparse(pd_dtype) or not is_extension_array_dtype(pd_dtype):\n",
      "c:\\Users\\win X\\anaconda3\\Lib\\site-packages\\sklearn\\utils\\validation.py:605: FutureWarning: is_sparse is deprecated and will be removed in a future version. Check `isinstance(dtype, pd.SparseDtype)` instead.\n",
      "  if is_sparse(pd_dtype):\n",
      "c:\\Users\\win X\\anaconda3\\Lib\\site-packages\\sklearn\\utils\\validation.py:614: FutureWarning: is_sparse is deprecated and will be removed in a future version. Check `isinstance(dtype, pd.SparseDtype)` instead.\n",
      "  if is_sparse(pd_dtype) or not is_extension_array_dtype(pd_dtype):\n",
      "c:\\Users\\win X\\anaconda3\\Lib\\site-packages\\sklearn\\utils\\validation.py:605: FutureWarning: is_sparse is deprecated and will be removed in a future version. Check `isinstance(dtype, pd.SparseDtype)` instead.\n",
      "  if is_sparse(pd_dtype):\n",
      "c:\\Users\\win X\\anaconda3\\Lib\\site-packages\\sklearn\\utils\\validation.py:614: FutureWarning: is_sparse is deprecated and will be removed in a future version. Check `isinstance(dtype, pd.SparseDtype)` instead.\n",
      "  if is_sparse(pd_dtype) or not is_extension_array_dtype(pd_dtype):\n",
      "c:\\Users\\win X\\anaconda3\\Lib\\site-packages\\sklearn\\utils\\validation.py:605: FutureWarning: is_sparse is deprecated and will be removed in a future version. Check `isinstance(dtype, pd.SparseDtype)` instead.\n",
      "  if is_sparse(pd_dtype):\n",
      "c:\\Users\\win X\\anaconda3\\Lib\\site-packages\\sklearn\\utils\\validation.py:614: FutureWarning: is_sparse is deprecated and will be removed in a future version. Check `isinstance(dtype, pd.SparseDtype)` instead.\n",
      "  if is_sparse(pd_dtype) or not is_extension_array_dtype(pd_dtype):\n"
     ]
    }
   ],
   "source": [
    "#SVM\n",
    "from sklearn import svm\n",
    "from sklearn.metrics import accuracy_score\n",
    "from sklearn.metrics import classification_report\n",
    "\n",
    "svc = svm.SVC(kernel='linear', C=1, decision_function_shape='ovr').fit(\n",
    "    x_train_res, y_train_res)\n",
    "predicted = svc.predict(x_test)\n",
    "print(\"SVM Accuracy: \", accuracy_score(y_test, predicted)*100)\n",
    "print(\"\\n\", classification_report(y_test, predicted, zero_division=0))\n"
   ]
  },
  {
   "cell_type": "code",
   "execution_count": 32,
   "metadata": {},
   "outputs": [
    {
     "name": "stdout",
     "output_type": "stream",
     "text": [
      "Prediksi Genre Buku: 800\n"
     ]
    }
   ],
   "source": [
    "#uji coba\n",
    "judul_buku = \"mencegah penyakit diabetes\"\n",
    "\n",
    "# Proses judul buku dengan TF-IDF dan Word2Vec\n",
    "tfidf_vector_judul = tfidf_vectorizer.transform([judul_buku])\n",
    "word2vec_judul = get_average_word2vec(judul_buku, model, tfidf_vectorizer)\n",
    "\n",
    "# Gabungkan vektor TF-IDF dan Word2Vec dari judul buku\n",
    "X_combined_judul = list(tfidf_vector_judul.toarray()[0]) + list(word2vec_judul)\n",
    "\n",
    "# Gunakan model SVM yang telah dilatih untuk memprediksi genre buku\n",
    "predicted_genre = svc.predict([X_combined_judul])\n",
    "\n",
    "print(f\"Prediksi Genre Buku: {predicted_genre[0]}\")"
   ]
  },
  {
   "cell_type": "code",
   "execution_count": 36,
   "metadata": {},
   "outputs": [],
   "source": [
    "with open('model.pkl', 'wb') as files:\n",
    "    pickle.dump(svc,files)"
   ]
  },
  {
   "cell_type": "code",
   "execution_count": 26,
   "metadata": {},
   "outputs": [],
   "source": [
    "with open('tfidf.pkl', 'wb') as files:\n",
    "    pickle.dump(tfidf_vectorizer,files)"
   ]
  },
  {
   "cell_type": "code",
   "execution_count": 28,
   "metadata": {},
   "outputs": [],
   "source": [
    "with open('word2vec.pkl', 'wb') as files:\n",
    "    pickle.dump(model,files)"
   ]
  }
 ],
 "metadata": {
  "kernelspec": {
   "display_name": "Python 3.11.5 ('base')",
   "language": "python",
   "name": "python3"
  },
  "language_info": {
   "codemirror_mode": {
    "name": "ipython",
    "version": 3
   },
   "file_extension": ".py",
   "mimetype": "text/x-python",
   "name": "python",
   "nbconvert_exporter": "python",
   "pygments_lexer": "ipython3",
   "version": "3.11.5"
  },
  "orig_nbformat": 4,
  "vscode": {
   "interpreter": {
    "hash": "28460c70aa09771d1e8a0c93ee5ae453231e2d0540884b9c9da83614b975bf07"
   }
  }
 },
 "nbformat": 4,
 "nbformat_minor": 2
}
